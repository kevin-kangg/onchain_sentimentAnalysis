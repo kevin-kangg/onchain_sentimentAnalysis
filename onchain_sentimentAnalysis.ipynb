{
 "cells": [
  {
   "cell_type": "markdown",
   "id": "d5f20b4b",
   "metadata": {},
   "source": [
    "# ETH Price Prediction with Reddit Sentiment & On-Chain Metrics"
   ]
  },
  {
   "cell_type": "code",
   "execution_count": 1,
   "id": "a5c92921",
   "metadata": {},
   "outputs": [],
   "source": [
    "import pandas as pd\n",
    "from io import StringIO\n",
    "import requests\n",
    "from datetime import datetime, timedelta\n",
    "from vaderSentiment.vaderSentiment import SentimentIntensityAnalyzer\n",
    "import praw\n",
    "import matplotlib.pyplot as plt\n",
    "from sklearn.linear_model import LinearRegression\n",
    "from sklearn.preprocessing import MinMaxScaler\n",
    "from datetime import datetime, timedelta\n",
    "import time\n",
    "from dotenv import load_dotenv\n",
    "import os"
   ]
  },
  {
   "cell_type": "markdown",
   "id": "18f452a2",
   "metadata": {},
   "source": [
    "### 1. Load On-Chain Data (manually since csv requires payment)"
   ]
  },
  {
   "cell_type": "code",
   "execution_count": 2,
   "id": "4f72b2b2",
   "metadata": {},
   "outputs": [
    {
     "name": "stdout",
     "output_type": "stream",
     "text": [
      "(91, 4)\n"
     ]
    },
    {
     "data": {
      "text/html": [
       "<div>\n",
       "<style scoped>\n",
       "    .dataframe tbody tr th:only-of-type {\n",
       "        vertical-align: middle;\n",
       "    }\n",
       "\n",
       "    .dataframe tbody tr th {\n",
       "        vertical-align: top;\n",
       "    }\n",
       "\n",
       "    .dataframe thead th {\n",
       "        text-align: right;\n",
       "    }\n",
       "</style>\n",
       "<table border=\"1\" class=\"dataframe\">\n",
       "  <thead>\n",
       "    <tr style=\"text-align: right;\">\n",
       "      <th></th>\n",
       "      <th>whale_transfer_count</th>\n",
       "      <th>swap_count</th>\n",
       "      <th>total_volume_usd</th>\n",
       "      <th>total_gas_used</th>\n",
       "    </tr>\n",
       "    <tr>\n",
       "      <th>date</th>\n",
       "      <th></th>\n",
       "      <th></th>\n",
       "      <th></th>\n",
       "      <th></th>\n",
       "    </tr>\n",
       "  </thead>\n",
       "  <tbody>\n",
       "    <tr>\n",
       "      <th>2025-04-09</th>\n",
       "      <td>1606</td>\n",
       "      <td>79089</td>\n",
       "      <td>4.422324e+08</td>\n",
       "      <td>76421465639</td>\n",
       "    </tr>\n",
       "    <tr>\n",
       "      <th>2025-04-08</th>\n",
       "      <td>2259</td>\n",
       "      <td>124779</td>\n",
       "      <td>8.300164e+08</td>\n",
       "      <td>130488155384</td>\n",
       "    </tr>\n",
       "    <tr>\n",
       "      <th>2025-04-07</th>\n",
       "      <td>3979</td>\n",
       "      <td>144656</td>\n",
       "      <td>1.547750e+09</td>\n",
       "      <td>130037219374</td>\n",
       "    </tr>\n",
       "    <tr>\n",
       "      <th>2025-04-06</th>\n",
       "      <td>1891</td>\n",
       "      <td>107906</td>\n",
       "      <td>1.232138e+09</td>\n",
       "      <td>131097642722</td>\n",
       "    </tr>\n",
       "    <tr>\n",
       "      <th>2025-04-05</th>\n",
       "      <td>780</td>\n",
       "      <td>75186</td>\n",
       "      <td>4.588753e+08</td>\n",
       "      <td>130834125064</td>\n",
       "    </tr>\n",
       "  </tbody>\n",
       "</table>\n",
       "</div>"
      ],
      "text/plain": [
       "            whale_transfer_count  swap_count  total_volume_usd  total_gas_used\n",
       "date                                                                          \n",
       "2025-04-09                  1606       79089      4.422324e+08     76421465639\n",
       "2025-04-08                  2259      124779      8.300164e+08    130488155384\n",
       "2025-04-07                  3979      144656      1.547750e+09    130037219374\n",
       "2025-04-06                  1891      107906      1.232138e+09    131097642722\n",
       "2025-04-05                   780       75186      4.588753e+08    130834125064"
      ]
     },
     "execution_count": 2,
     "metadata": {},
     "output_type": "execute_result"
    }
   ],
   "source": [
    "data = \"\"\"\n",
    "date,whale_transfer_count,swap_count,total_volume_usd,total_gas_used\n",
    "2025-04-09,1606,79089,442232420.6858446,76421465639\n",
    "2025-04-08,2259,124779,830016422.0837877,130488155384\n",
    "2025-04-07,3979,144656,1547749576.3270354,130037219374\n",
    "2025-04-06,1891,107906,1232137903.0913436,131097642722\n",
    "2025-04-05,780,75186,458875312.39824486,130834125064\n",
    "2025-04-04,1655,115222,891779058.8731519,130863896942\n",
    "2025-04-03,1429,115329,878486235.6253107,130147029308\n",
    "2025-04-02,1470,113500,1125935327.8344889,130682100756\n",
    "2025-04-01,1529,96745,707867819.1128354,130478561914\n",
    "2025-03-31,1697,102473,717554946.8292001,130428305724\n",
    "2025-03-30,787,92589,490677952.7131678,131210503317\n",
    "2025-03-29,1001,106566,648979990.6291386,130812849104\n",
    "2025-03-28,1775,118192,1095936652.098836,130531928023\n",
    "2025-03-27,1277,98177,736831361.2455553,130630850336\n",
    "2025-03-26,1422,104565,754212139.8902023,130797752237\n",
    "2025-03-25,1103,98890,691451683.9942648,130403108513\n",
    "2025-03-24,1545,103263,805935623.5554438,130831705645\n",
    "2025-03-23,648,79732,393321281.54786456,131480872818\n",
    "2025-03-22,681,76526,354738659.6844233,131481318142\n",
    "2025-03-21,1273,93328,659791108.0191333,131332527076\n",
    "2025-03-20,1354,98552,856071385.3106494,130712861164\n",
    "2025-03-19,1927,116866,1136965568.6742716,130606298924\n",
    "2025-03-18,1457,105456,685647598.7427822,130706911905\n",
    "2025-03-17,1454,102962,754054228.1418308,130889448145\n",
    "2025-03-16,728,95246,529394423.0711604,131341874766\n",
    "2025-03-15,880,86753,389136811.56042445,131482252401\n",
    "2025-03-14,1532,104076,781431217.455365,130988571670\n",
    "2025-03-13,1760,116487,964934772.1505396,130953543840\n",
    "2025-03-12,1931,129583,1365220800.905456,130661571809\n",
    "2025-03-11,2471,145765,1801434820.205475,130205767368\n",
    "2025-03-10,2923,141500,2403876154.7094827,130612493238\n",
    "2025-03-09,1193,130440,1272571384.5146742,130900025392\n",
    "2025-03-08,737,104002,741764045.6203324,130665208191\n",
    "2025-03-07,1673,136906,1736365609.9731076,130320712237\n",
    "2025-03-06,1533,124700,1013972165.1555378,130414552136\n",
    "2025-03-05,1708,125288,1094023738.6718807,130581026068\n",
    "2025-03-04,2548,156777,2227861404.211435,130545084240\n",
    "2025-03-03,3465,142657,1753314134.878279,130595220001\n",
    "2025-03-02,3583,117762,1784530890.7620935,131363322546\n",
    "2025-03-01,2142,102969,788160678.1108052,131036692988\n",
    "2025-02-28,3333,153896,2217625597.2128186,130605372774\n",
    "2025-02-27,2731,128615,1074795628.7420273,130711016482\n",
    "2025-02-26,3075,130876,1550253082.3803816,130799662470\n",
    "2025-02-25,3341,162158,2178491201.2156425,130130348768\n",
    "2025-02-24,2503,141486,2077507401.521568,130773714063\n",
    "2025-02-23,1413,107120,1079950969.0209694,131033118457\n",
    "2025-02-22,1713,107740,905536425.8371944,130697243064\n",
    "2025-02-21,2193,124585,1872428058.2677996,130492093998\n",
    "2025-02-20,1323,108465,863510042.3999292,129975901744\n",
    "2025-02-19,1413,118045,832262359.3534588,130430372308\n",
    "2025-02-18,1795,140574,1373249614.165756,130179514094\n",
    "2025-02-17,1416,117613,1282792346.587433,129947498213\n",
    "2025-02-16,759,96557,535690325.13189644,130525921517\n",
    "2025-02-15,872,94293,465286138.04774755,130273141363\n",
    "2025-02-14,1607,118401,1168601081.2770617,129719329692\n",
    "2025-02-13,1751,114591,1198099737.1653852,129916998449\n",
    "2025-02-12,1569,121870,1655820259.5798216,129751611918\n",
    "2025-02-11,1489,119421,1137838180.706682,130048370024\n",
    "2025-02-10,1332,126716,1088694055.9127421,130046851591\n",
    "2025-02-09,1092,112662,859733408.5694622,130617991303\n",
    "2025-02-08,1384,105128,748739000.418257,130338033098\n",
    "2025-02-07,1909,133061,1569406808.0683022,130259221353\n",
    "2025-02-06,2174,121609,1703038287.6187341,130168022751\n",
    "2025-02-05,2123,121377,1391539615.2972991,130035728535\n",
    "2025-02-04,2976,142015,2176494347.7321854,126121006227\n",
    "2025-02-03,5701,138510,4414905574.1786585,110938168934\n",
    "2025-02-02,1952,126728,2081552367.9374,109773880128\n",
    "2025-02-01,1082,106725,1218883492.1202455,109262375602\n",
    "2025-01-31,2137,111628,1927885501.671952,109378918031\n",
    "2025-01-30,1606,106220,1269797145.7332501,108800361795\n",
    "2025-01-29,1344,107361,1215556481.1051168,108698573015\n",
    "2025-01-28,1693,98844,1262488315.9519143,108804382561\n",
    "2025-01-27,2428,113634,2028778733.1576743,108770745038\n",
    "2025-01-26,906,91786,1088633240.6821136,108853533312\n",
    "2025-01-25,1093,82975,794621862.375479,108693279134\n",
    "2025-01-24,1926,88852,1704161074.3067625,108771645455\n",
    "2025-01-23,2368,92323,2997564860.673211,108716767487\n",
    "2025-01-22,1959,87143,1554083162.5159724,108511399550\n",
    "2025-01-21,2624,92060,2527292182.8275084,108455196396\n",
    "2025-01-20,2642,88946,3961886887.0659184,108420902441\n",
    "2025-01-19,2521,100078,2957972416.909825,108610040118\n",
    "2025-01-18,2132,98600,2038091667.422393,108591783632\n",
    "2025-01-17,1733,92028,1457010358.9794536,108585721792\n",
    "2025-01-16,1626,90238,1159327301.489141,108522136755\n",
    "2025-01-15,1617,90547,1243108298.3905592,108530336372\n",
    "2025-01-14,1403,86858,1043446825.9147394,108379668223\n",
    "2025-01-13,2221,111571,1846759079.9773602,108418788183\n",
    "2025-01-12,571,84778,539770061.3572738,108829229174\n",
    "2025-01-11,607,85849,552930900.3728387,108559300992\n",
    "2025-01-10,1255,96006,1150902171.4141023,108378828627\n",
    "2025-01-09,861,40285,648316508.9906818,44834567049\n",
    "\"\"\"\n",
    "\n",
    "df_onchain = pd.read_csv(StringIO(data), parse_dates=[\"date\"])\n",
    "df_onchain.set_index(\"date\", inplace=True)\n",
    "print(df_onchain.shape)\n",
    "df_onchain.head()\n"
   ]
  },
  {
   "cell_type": "markdown",
   "id": "e2763165",
   "metadata": {},
   "source": [
    "### 2. Fetch Reddit Posts via PRAW (Reddit API)"
   ]
  },
  {
   "cell_type": "code",
   "execution_count": 3,
   "id": "7dc379a1",
   "metadata": {},
   "outputs": [
    {
     "name": "stderr",
     "output_type": "stream",
     "text": [
      "/var/folders/60/_py15qt17v56b8mrbggcwgzr0000gn/T/ipykernel_15477/2358693866.py:17: DeprecationWarning: datetime.datetime.utcfromtimestamp() is deprecated and scheduled for removal in a future version. Use timezone-aware objects to represent datetimes in UTC: datetime.datetime.fromtimestamp(timestamp, datetime.UTC).\n",
      "  created = datetime.utcfromtimestamp(submission.created_utc).date()\n"
     ]
    },
    {
     "name": "stdout",
     "output_type": "stream",
     "text": [
      "Fetched 500 posts\n",
      "         date  avg_sentiment\n",
      "0  2025-03-10      -0.142586\n",
      "1  2025-03-11       0.015433\n",
      "2  2025-03-12       0.003862\n",
      "3  2025-03-13       0.037458\n",
      "4  2025-03-14      -0.168269\n"
     ]
    }
   ],
   "source": [
    "load_dotenv()\n",
    "\n",
    "reddit = praw.Reddit(\n",
    "    client_id=os.getenv(\"REDDIT_CLIENT_ID\"),\n",
    "    client_secret=os.getenv(\"REDDIT_CLIENT_SECRET\"),\n",
    "    user_agent=os.getenv(\"REDDIT_USER_AGENT\", \"crypto sentiment script\")\n",
    ")\n",
    "\n",
    "# Top posts from last month\n",
    "subreddit_name = \"CryptoCurrency\"\n",
    "posts = []\n",
    "\n",
    "for submission in reddit.subreddit(subreddit_name).top(time_filter=\"month\", limit=500):\n",
    "    title = submission.title\n",
    "    selftext = submission.selftext or \"\"\n",
    "    combined = title + \" \" + selftext\n",
    "    created = datetime.utcfromtimestamp(submission.created_utc).date()\n",
    "\n",
    "    posts.append({\n",
    "        \"date\": created,\n",
    "        \"text\": combined\n",
    "    })\n",
    "\n",
    "reddit_df = pd.DataFrame(posts)\n",
    "print(f\"Fetched {len(reddit_df)} posts\")\n",
    "\n",
    "# VADER Sentiment\n",
    "analyzer = SentimentIntensityAnalyzer()\n",
    "reddit_df[\"sentiment\"] = reddit_df[\"text\"].apply(lambda x: analyzer.polarity_scores(x)[\"compound\"])\n",
    "\n",
    "# Aggregation daily\n",
    "daily_sentiment = reddit_df.groupby(\"date\")[\"sentiment\"].mean().reset_index()\n",
    "daily_sentiment.columns = [\"date\", \"avg_sentiment\"]\n",
    "print(daily_sentiment.head())\n"
   ]
  },
  {
   "cell_type": "markdown",
   "id": "6f4dc96c",
   "metadata": {},
   "source": [
    "### 3. Fetch ETH Price from CoinGecko"
   ]
  },
  {
   "cell_type": "code",
   "execution_count": 4,
   "id": "17f10dba",
   "metadata": {},
   "outputs": [
    {
     "name": "stderr",
     "output_type": "stream",
     "text": [
      "/var/folders/60/_py15qt17v56b8mrbggcwgzr0000gn/T/ipykernel_15477/4089554161.py:8: DeprecationWarning: datetime.datetime.utcfromtimestamp() is deprecated and scheduled for removal in a future version. Use timezone-aware objects to represent datetimes in UTC: datetime.datetime.fromtimestamp(timestamp, datetime.UTC).\n",
      "  [(datetime.utcfromtimestamp(p[0] / 1000).date(), p[1]) for p in prices],\n"
     ]
    },
    {
     "data": {
      "text/html": [
       "<div>\n",
       "<style scoped>\n",
       "    .dataframe tbody tr th:only-of-type {\n",
       "        vertical-align: middle;\n",
       "    }\n",
       "\n",
       "    .dataframe tbody tr th {\n",
       "        vertical-align: top;\n",
       "    }\n",
       "\n",
       "    .dataframe thead th {\n",
       "        text-align: right;\n",
       "    }\n",
       "</style>\n",
       "<table border=\"1\" class=\"dataframe\">\n",
       "  <thead>\n",
       "    <tr style=\"text-align: right;\">\n",
       "      <th></th>\n",
       "      <th>date</th>\n",
       "      <th>eth_price</th>\n",
       "    </tr>\n",
       "  </thead>\n",
       "  <tbody>\n",
       "    <tr>\n",
       "      <th>0</th>\n",
       "      <td>2025-01-09</td>\n",
       "      <td>3227.531611</td>\n",
       "    </tr>\n",
       "    <tr>\n",
       "      <th>1</th>\n",
       "      <td>2025-01-10</td>\n",
       "      <td>3270.296211</td>\n",
       "    </tr>\n",
       "    <tr>\n",
       "      <th>2</th>\n",
       "      <td>2025-01-11</td>\n",
       "      <td>3262.134774</td>\n",
       "    </tr>\n",
       "    <tr>\n",
       "      <th>3</th>\n",
       "      <td>2025-01-12</td>\n",
       "      <td>3269.115382</td>\n",
       "    </tr>\n",
       "    <tr>\n",
       "      <th>4</th>\n",
       "      <td>2025-01-13</td>\n",
       "      <td>3131.203490</td>\n",
       "    </tr>\n",
       "  </tbody>\n",
       "</table>\n",
       "</div>"
      ],
      "text/plain": [
       "         date    eth_price\n",
       "0  2025-01-09  3227.531611\n",
       "1  2025-01-10  3270.296211\n",
       "2  2025-01-11  3262.134774\n",
       "3  2025-01-12  3269.115382\n",
       "4  2025-01-13  3131.203490"
      ]
     },
     "execution_count": 4,
     "metadata": {},
     "output_type": "execute_result"
    }
   ],
   "source": [
    "def fetch_eth_price(days=90):\n",
    "    url = f\"https://api.coingecko.com/api/v3/coins/ethereum/market_chart\"\n",
    "    params = {\"vs_currency\": \"usd\", \"days\": days}\n",
    "    r = requests.get(url, params=params)\n",
    "    prices = r.json()[\"prices\"]\n",
    "\n",
    "    return pd.DataFrame(\n",
    "        [(datetime.utcfromtimestamp(p[0] / 1000).date(), p[1]) for p in prices],\n",
    "        columns=[\"date\", \"eth_price\"]\n",
    "    )\n",
    "\n",
    "eth_price_df = fetch_eth_price()\n",
    "eth_price_df = eth_price_df.groupby(\"date\").mean().reset_index()\n",
    "eth_price_df.head()\n"
   ]
  },
  {
   "cell_type": "markdown",
   "id": "e2676192",
   "metadata": {},
   "source": [
    "### 4. Merging Dataframes"
   ]
  },
  {
   "cell_type": "code",
   "execution_count": 5,
   "id": "f843bc2b",
   "metadata": {},
   "outputs": [],
   "source": [
    "# Reset index to merge on date\n",
    "onchain_df = df_onchain.reset_index()\n",
    "\n",
    "# Make sure all date columns are datetime type\n",
    "onchain_df[\"date\"] = pd.to_datetime(onchain_df[\"date\"])\n",
    "daily_sentiment[\"date\"] = pd.to_datetime(daily_sentiment[\"date\"])\n",
    "eth_price_df[\"date\"] = pd.to_datetime(eth_price_df[\"date\"])\n"
   ]
  },
  {
   "cell_type": "code",
   "execution_count": 6,
   "id": "558e9256",
   "metadata": {},
   "outputs": [
    {
     "name": "stderr",
     "output_type": "stream",
     "text": [
      "/var/folders/60/_py15qt17v56b8mrbggcwgzr0000gn/T/ipykernel_15477/4163023045.py:8: FutureWarning: DataFrame.fillna with 'method' is deprecated and will raise in a future version. Use obj.ffill() or obj.bfill() instead.\n",
      "  combined.fillna(method=\"ffill\", inplace=True)\n"
     ]
    },
    {
     "data": {
      "text/html": [
       "<div>\n",
       "<style scoped>\n",
       "    .dataframe tbody tr th:only-of-type {\n",
       "        vertical-align: middle;\n",
       "    }\n",
       "\n",
       "    .dataframe tbody tr th {\n",
       "        vertical-align: top;\n",
       "    }\n",
       "\n",
       "    .dataframe thead th {\n",
       "        text-align: right;\n",
       "    }\n",
       "</style>\n",
       "<table border=\"1\" class=\"dataframe\">\n",
       "  <thead>\n",
       "    <tr style=\"text-align: right;\">\n",
       "      <th></th>\n",
       "      <th>date</th>\n",
       "      <th>whale_transfer_count</th>\n",
       "      <th>swap_count</th>\n",
       "      <th>total_volume_usd</th>\n",
       "      <th>total_gas_used</th>\n",
       "      <th>avg_sentiment</th>\n",
       "      <th>eth_price</th>\n",
       "    </tr>\n",
       "  </thead>\n",
       "  <tbody>\n",
       "    <tr>\n",
       "      <th>0</th>\n",
       "      <td>2025-04-09</td>\n",
       "      <td>1606</td>\n",
       "      <td>79089</td>\n",
       "      <td>4.422324e+08</td>\n",
       "      <td>76421465639</td>\n",
       "      <td>0.361200</td>\n",
       "      <td>1474.042964</td>\n",
       "    </tr>\n",
       "    <tr>\n",
       "      <th>1</th>\n",
       "      <td>2025-04-08</td>\n",
       "      <td>2259</td>\n",
       "      <td>124779</td>\n",
       "      <td>8.300164e+08</td>\n",
       "      <td>130488155384</td>\n",
       "      <td>-0.126512</td>\n",
       "      <td>1541.943740</td>\n",
       "    </tr>\n",
       "    <tr>\n",
       "      <th>2</th>\n",
       "      <td>2025-04-07</td>\n",
       "      <td>3979</td>\n",
       "      <td>144656</td>\n",
       "      <td>1.547750e+09</td>\n",
       "      <td>130037219374</td>\n",
       "      <td>-0.144695</td>\n",
       "      <td>1536.582459</td>\n",
       "    </tr>\n",
       "    <tr>\n",
       "      <th>3</th>\n",
       "      <td>2025-04-06</td>\n",
       "      <td>1891</td>\n",
       "      <td>107906</td>\n",
       "      <td>1.232138e+09</td>\n",
       "      <td>131097642722</td>\n",
       "      <td>-0.079553</td>\n",
       "      <td>1744.342298</td>\n",
       "    </tr>\n",
       "    <tr>\n",
       "      <th>4</th>\n",
       "      <td>2025-04-05</td>\n",
       "      <td>780</td>\n",
       "      <td>75186</td>\n",
       "      <td>4.588753e+08</td>\n",
       "      <td>130834125064</td>\n",
       "      <td>-0.125713</td>\n",
       "      <td>1802.550717</td>\n",
       "    </tr>\n",
       "  </tbody>\n",
       "</table>\n",
       "</div>"
      ],
      "text/plain": [
       "        date  whale_transfer_count  swap_count  total_volume_usd  \\\n",
       "0 2025-04-09                  1606       79089      4.422324e+08   \n",
       "1 2025-04-08                  2259      124779      8.300164e+08   \n",
       "2 2025-04-07                  3979      144656      1.547750e+09   \n",
       "3 2025-04-06                  1891      107906      1.232138e+09   \n",
       "4 2025-04-05                   780       75186      4.588753e+08   \n",
       "\n",
       "   total_gas_used  avg_sentiment    eth_price  \n",
       "0     76421465639       0.361200  1474.042964  \n",
       "1    130488155384      -0.126512  1541.943740  \n",
       "2    130037219374      -0.144695  1536.582459  \n",
       "3    131097642722      -0.079553  1744.342298  \n",
       "4    130834125064      -0.125713  1802.550717  "
      ]
     },
     "execution_count": 6,
     "metadata": {},
     "output_type": "execute_result"
    }
   ],
   "source": [
    "# Merge in Reddit sentiment\n",
    "combined = onchain_df.merge(daily_sentiment, on=\"date\", how=\"left\")\n",
    "\n",
    "# Merge in ETH price\n",
    "combined = combined.merge(eth_price_df, on=\"date\", how=\"left\")\n",
    "\n",
    "# Fill missing sentiment or price\n",
    "combined.fillna(method=\"ffill\", inplace=True)\n",
    "\n",
    "combined.head()\n"
   ]
  },
  {
   "cell_type": "markdown",
   "id": "1f37764b",
   "metadata": {},
   "source": [
    "### 5. Correlation & Lag Features"
   ]
  },
  {
   "cell_type": "code",
   "execution_count": 7,
   "id": "b855410b",
   "metadata": {},
   "outputs": [
    {
     "name": "stdout",
     "output_type": "stream",
     "text": [
      "\n",
      "Correlation with ETH Price:\n",
      "whale_transfer_count    0.006162\n",
      "swap_count             -0.286797\n",
      "total_volume_usd        0.355847\n",
      "total_gas_used         -0.709740\n",
      "avg_sentiment          -0.561095\n",
      "eth_price               1.000000\n",
      "sentiment_lag1         -0.585783\n",
      "gas_lag1               -0.643995\n",
      "Name: eth_price, dtype: float64\n"
     ]
    }
   ],
   "source": [
    "combined[\"sentiment_lag1\"] = combined[\"avg_sentiment\"].shift(1)\n",
    "combined[\"gas_lag1\"] = combined[\"total_gas_used\"].shift(1)\n",
    "combined.dropna(inplace=True)\n",
    "\n",
    "print(\"\\nCorrelation with ETH Price:\")\n",
    "print(combined.corr(numeric_only=True)[\"eth_price\"])"
   ]
  },
  {
   "cell_type": "markdown",
   "id": "dc44b4a2",
   "metadata": {},
   "source": [
    "### 6. Simple Linear Regression"
   ]
  },
  {
   "cell_type": "code",
   "execution_count": 8,
   "id": "3c8915ad",
   "metadata": {},
   "outputs": [
    {
     "name": "stdout",
     "output_type": "stream",
     "text": [
      "\n",
      "Model R^2 Score: 0.7149366191782938\n",
      "Model Coefficients: {'sentiment_lag1': np.float64(-2872.0053039282043), 'gas_lag1': np.float64(-3.054070147651564e-08), 'total_volume_usd': np.float64(3.039763493146714e-08)}\n"
     ]
    }
   ],
   "source": [
    "X = combined[[\"sentiment_lag1\", \"gas_lag1\", \"total_volume_usd\"]]\n",
    "y = combined[\"eth_price\"]\n",
    "model = LinearRegression().fit(X, y)\n",
    "print(\"\\nModel R^2 Score:\", model.score(X, y))\n",
    "print(\"Model Coefficients:\", dict(zip(X.columns, model.coef_)))"
   ]
  },
  {
   "cell_type": "markdown",
   "id": "76adf291",
   "metadata": {},
   "source": [
    "### 7. Visualization"
   ]
  },
  {
   "cell_type": "code",
   "execution_count": 9,
   "id": "55fe3f46",
   "metadata": {},
   "outputs": [
    {
     "data": {
      "image/png": "[encoded data removed]",
      "text/plain": [
       "<Figure size 1400x600 with 1 Axes>"
      ]
     },
     "metadata": {},
     "output_type": "display_data"
    }
   ],
   "source": [
    "from sklearn.preprocessing import MinMaxScaler\n",
    "\n",
    "scale_cols = [\"eth_price\", \"avg_sentiment\", \"total_gas_used\"]\n",
    "scaled_data = combined.dropna(subset=scale_cols).copy()\n",
    "\n",
    "scaler = MinMaxScaler()\n",
    "scaled_values = scaler.fit_transform(scaled_data[scale_cols])\n",
    "scaled_df = pd.DataFrame(scaled_values, columns=scale_cols, index=scaled_data[\"date\"])\n",
    "\n",
    "plt.figure(figsize=(14,6))\n",
    "plt.plot(scaled_df.index, scaled_df[\"eth_price\"], label=\"ETH Price (scaled)\", color=\"black\")\n",
    "plt.plot(scaled_df.index, scaled_df[\"avg_sentiment\"], label=\"Reddit Sentiment (scaled)\", color=\"deepskyblue\")\n",
    "plt.plot(scaled_df.index, scaled_df[\"total_gas_used\"], label=\"Gas Used (scaled)\", color=\"orange\")\n",
    "plt.title(\"Scaled ETH Price vs Reddit Sentiment vs Gas Usage\")\n",
    "plt.legend()\n",
    "plt.grid()\n",
    "plt.show()\n",
    "\n"
   ]
  },
  {
   "cell_type": "markdown",
   "id": "ceb6f9cc",
   "metadata": {},
   "source": [
    "### Insights"
   ]
  },
  {
   "cell_type": "markdown",
   "id": "5394f38b",
   "metadata": {},
   "source": [
    "\n",
    "- **Reddit sentiment is not a bullish signal** — it may reflect lagged optimism or “buy the dip” chatter **after** price falls. This makes it more of a contrarian or reactive indicator.\n",
    "\n",
    "- **High gas usage may indicate network stress or hype peaks**, which often **precede pullbacks**. This signal showed a strong negative correlation with ETH price.\n",
    "\n",
    "- **Trading volume has mild predictive value**, but likely needs to be combined with other context like order flow, volatility, or market structure to be useful alone.\n",
    "\n",
    "- A **simple linear regression model** using just three features — lagged sentiment, lagged gas usage, and trading volume — achieves an **R² of 0.71**, showing strong explanatory power.\n",
    "\n",
    "This analysis suggests that while sentiment and activity signals are valuable, they must be interpreted contextually — and may be more powerful when combined or lagged.\n",
    "\n"
   ]
  }
 ],
 "metadata": {
  "kernelspec": {
   "display_name": "Python (jupyter-env)",
   "language": "python",
   "name": "jupyter-env"
  },
  "language_info": {
   "codemirror_mode": {
    "name": "ipython",
    "version": 3
   },
   "file_extension": ".py",
   "mimetype": "text/x-python",
   "name": "python",
   "nbconvert_exporter": "python",
   "pygments_lexer": "ipython3",
   "version": "3.13.2"
  }
 },
 "nbformat": 4,
 "nbformat_minor": 5
}
